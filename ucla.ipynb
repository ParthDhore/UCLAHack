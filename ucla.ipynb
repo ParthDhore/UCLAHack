{
  "nbformat": 4,
  "nbformat_minor": 0,
  "metadata": {
    "colab": {
      "provenance": [],
      "authorship_tag": "ABX9TyONqx9KjzwEuwxYYYd/JCLV",
      "include_colab_link": true
    },
    "kernelspec": {
      "name": "python3",
      "display_name": "Python 3"
    },
    "language_info": {
      "name": "python"
    }
  },
  "cells": [
    {
      "cell_type": "markdown",
      "metadata": {
        "id": "view-in-github",
        "colab_type": "text"
      },
      "source": [
        "<a href=\"https://colab.research.google.com/github/ParthDhore/UCLAHack/blob/main/ucla.ipynb\" target=\"_parent\"><img src=\"https://colab.research.google.com/assets/colab-badge.svg\" alt=\"Open In Colab\"/></a>"
      ]
    },
    {
      "cell_type": "code",
      "execution_count": null,
      "metadata": {
        "id": "xgsz_s4Ov7RO",
        "colab": {
          "base_uri": "https://localhost:8080/"
        },
        "outputId": "5e7d4086-8bb1-45bd-e331-1fa442a46868"
      },
      "outputs": [
        {
          "output_type": "stream",
          "name": "stdout",
          "text": [
            "\u001b[2K     \u001b[90m━━━━━━━━━━━━━━━━━━━━━━━━━━━━━━━━━━━━━━━━\u001b[0m \u001b[32m974.6/974.6 kB\u001b[0m \u001b[31m5.0 MB/s\u001b[0m eta \u001b[36m0:00:00\u001b[0m\n",
            "\u001b[2K     \u001b[90m━━━━━━━━━━━━━━━━━━━━━━━━━━━━━━━━━━━━━━━━\u001b[0m \u001b[32m202.5/202.5 kB\u001b[0m \u001b[31m6.3 MB/s\u001b[0m eta \u001b[36m0:00:00\u001b[0m\n",
            "\u001b[2K     \u001b[90m━━━━━━━━━━━━━━━━━━━━━━━━━━━━━━━━━━━━━━━━\u001b[0m \u001b[32m321.8/321.8 kB\u001b[0m \u001b[31m5.4 MB/s\u001b[0m eta \u001b[36m0:00:00\u001b[0m\n",
            "\u001b[2K     \u001b[90m━━━━━━━━━━━━━━━━━━━━━━━━━━━━━━━━━━━━━━━━\u001b[0m \u001b[32m127.1/127.1 kB\u001b[0m \u001b[31m3.4 MB/s\u001b[0m eta \u001b[36m0:00:00\u001b[0m\n",
            "\u001b[2K     \u001b[90m━━━━━━━━━━━━━━━━━━━━━━━━━━━━━━━━━━━━━━━━\u001b[0m \u001b[32m2.2/2.2 MB\u001b[0m \u001b[31m11.3 MB/s\u001b[0m eta \u001b[36m0:00:00\u001b[0m\n",
            "\u001b[2K     \u001b[90m━━━━━━━━━━━━━━━━━━━━━━━━━━━━━━━━━━━━━━━━\u001b[0m \u001b[32m75.6/75.6 kB\u001b[0m \u001b[31m3.7 MB/s\u001b[0m eta \u001b[36m0:00:00\u001b[0m\n",
            "\u001b[2K     \u001b[90m━━━━━━━━━━━━━━━━━━━━━━━━━━━━━━━━━━━━━━━━\u001b[0m \u001b[32m77.9/77.9 kB\u001b[0m \u001b[31m3.4 MB/s\u001b[0m eta \u001b[36m0:00:00\u001b[0m\n",
            "\u001b[2K     \u001b[90m━━━━━━━━━━━━━━━━━━━━━━━━━━━━━━━━━━━━━━━━\u001b[0m \u001b[32m58.3/58.3 kB\u001b[0m \u001b[31m3.5 MB/s\u001b[0m eta \u001b[36m0:00:00\u001b[0m\n",
            "\u001b[2K     \u001b[90m━━━━━━━━━━━━━━━━━━━━━━━━━━━━━━━━━━━━━━━━\u001b[0m \u001b[32m145.0/145.0 kB\u001b[0m \u001b[31m2.6 MB/s\u001b[0m eta \u001b[36m0:00:00\u001b[0m\n",
            "\u001b[2K     \u001b[90m━━━━━━━━━━━━━━━━━━━━━━━━━━━━━━━━━━━━━━━━\u001b[0m \u001b[32m49.2/49.2 kB\u001b[0m \u001b[31m2.8 MB/s\u001b[0m eta \u001b[36m0:00:00\u001b[0m\n",
            "\u001b[?25h"
          ]
        }
      ],
      "source": [
        "%pip install --upgrade --quiet  langchain langchain_experimental langchain-mistralai"
      ]
    },
    {
      "cell_type": "code",
      "source": [
        "from google.colab import drive\n",
        "drive.mount('/content/drive')"
      ],
      "metadata": {
        "colab": {
          "base_uri": "https://localhost:8080/"
        },
        "id": "phAKRZ34Ixk-",
        "outputId": "ee3f5e3a-1e81-43ff-d75d-1b75c26dfe51"
      },
      "execution_count": null,
      "outputs": [
        {
          "output_type": "stream",
          "name": "stdout",
          "text": [
            "Mounted at /content/drive\n"
          ]
        }
      ]
    },
    {
      "cell_type": "code",
      "source": [
        "import numpy as np\n",
        "import pandas as pd"
      ],
      "metadata": {
        "id": "uk088ykiwA8-"
      },
      "execution_count": null,
      "outputs": []
    },
    {
      "cell_type": "code",
      "source": [
        "from langchain_core.prompts import FewShotPromptTemplate, PromptTemplate\n",
        "from langchain_core.pydantic_v1 import BaseModel\n",
        "from langchain_experimental.tabular_synthetic_data.openai import (\n",
        "    OPENAI_TEMPLATE,\n",
        "    create_openai_data_generator,\n",
        ")\n",
        "from langchain_experimental.tabular_synthetic_data.prompts import (\n",
        "    SYNTHETIC_FEW_SHOT_PREFIX,\n",
        "    SYNTHETIC_FEW_SHOT_SUFFIX,\n",
        ")\n",
        "from langchain_mistralai.chat_models import ChatMistralAI"
      ],
      "metadata": {
        "id": "NhhPtyVqDiYk"
      },
      "execution_count": null,
      "outputs": []
    },
    {
      "cell_type": "code",
      "source": [
        "ads=pd.read_csv('/content/drive/MyDrive/ucla/train_data_ads.csv')\n",
        "ads.head()"
      ],
      "metadata": {
        "colab": {
          "base_uri": "https://localhost:8080/",
          "height": 255
        },
        "id": "Qtz-SInzJF6I",
        "outputId": "337653b4-5e27-49ac-c2dd-090d504f08b6"
      },
      "execution_count": null,
      "outputs": [
        {
          "output_type": "execute_result",
          "data": {
            "text/plain": [
              "   log_id  label  user_id  age  gender  residence  city  city_rank  \\\n",
              "0  373250      0   100005    3       2         16   147          2   \n",
              "1  373253      1   100005    3       2         16   147          2   \n",
              "2  373252      1   100005    3       2         16   147          2   \n",
              "3  373251      0   100005    3       2         16   147          2   \n",
              "4  373255      0   100005    3       2         16   147          2   \n",
              "\n",
              "   series_dev  series_group  ...       ad_click_list_v001  ad_click_list_v002  \\\n",
              "0          32             6  ...  30157^30648^14278^31706      2066^1776^1036   \n",
              "1          32             6  ...  30157^30648^14278^31706      2066^1776^1036   \n",
              "2          32             6  ...  30157^30648^14278^31706      2066^1776^1036   \n",
              "3          32             6  ...  30157^30648^14278^31706      2066^1776^1036   \n",
              "4          32             6  ...  30157^30648^14278^31706      2066^1776^1036   \n",
              "\n",
              "   ad_click_list_v003  ad_close_list_v001  ad_close_list_v002  \\\n",
              "0         114^219^312               24107                1218   \n",
              "1         114^219^312               24107                1218   \n",
              "2         114^219^312               24107                1218   \n",
              "3         114^219^312               24107                1218   \n",
              "4         114^219^312               24107                1218   \n",
              "\n",
              "   ad_close_list_v003          pt_d  u_newsCatInterestsST  u_refreshTimes  \\\n",
              "0                 173  202206030326             39^220^16               0   \n",
              "1                 173  202206030326             39^220^16               0   \n",
              "2                 173  202206030326             39^220^16               0   \n",
              "3                 173  202206030326             39^220^16               0   \n",
              "4                 173  202206030328             39^220^16               0   \n",
              "\n",
              "   u_feedLifeCycle  \n",
              "0               15  \n",
              "1               15  \n",
              "2               15  \n",
              "3               15  \n",
              "4               15  \n",
              "\n",
              "[5 rows x 35 columns]"
            ],
            "text/html": [
              "\n",
              "  <div id=\"df-eb22e0c0-46a6-41a2-891b-52c21456af09\" class=\"colab-df-container\">\n",
              "    <div>\n",
              "<style scoped>\n",
              "    .dataframe tbody tr th:only-of-type {\n",
              "        vertical-align: middle;\n",
              "    }\n",
              "\n",
              "    .dataframe tbody tr th {\n",
              "        vertical-align: top;\n",
              "    }\n",
              "\n",
              "    .dataframe thead th {\n",
              "        text-align: right;\n",
              "    }\n",
              "</style>\n",
              "<table border=\"1\" class=\"dataframe\">\n",
              "  <thead>\n",
              "    <tr style=\"text-align: right;\">\n",
              "      <th></th>\n",
              "      <th>log_id</th>\n",
              "      <th>label</th>\n",
              "      <th>user_id</th>\n",
              "      <th>age</th>\n",
              "      <th>gender</th>\n",
              "      <th>residence</th>\n",
              "      <th>city</th>\n",
              "      <th>city_rank</th>\n",
              "      <th>series_dev</th>\n",
              "      <th>series_group</th>\n",
              "      <th>...</th>\n",
              "      <th>ad_click_list_v001</th>\n",
              "      <th>ad_click_list_v002</th>\n",
              "      <th>ad_click_list_v003</th>\n",
              "      <th>ad_close_list_v001</th>\n",
              "      <th>ad_close_list_v002</th>\n",
              "      <th>ad_close_list_v003</th>\n",
              "      <th>pt_d</th>\n",
              "      <th>u_newsCatInterestsST</th>\n",
              "      <th>u_refreshTimes</th>\n",
              "      <th>u_feedLifeCycle</th>\n",
              "    </tr>\n",
              "  </thead>\n",
              "  <tbody>\n",
              "    <tr>\n",
              "      <th>0</th>\n",
              "      <td>373250</td>\n",
              "      <td>0</td>\n",
              "      <td>100005</td>\n",
              "      <td>3</td>\n",
              "      <td>2</td>\n",
              "      <td>16</td>\n",
              "      <td>147</td>\n",
              "      <td>2</td>\n",
              "      <td>32</td>\n",
              "      <td>6</td>\n",
              "      <td>...</td>\n",
              "      <td>30157^30648^14278^31706</td>\n",
              "      <td>2066^1776^1036</td>\n",
              "      <td>114^219^312</td>\n",
              "      <td>24107</td>\n",
              "      <td>1218</td>\n",
              "      <td>173</td>\n",
              "      <td>202206030326</td>\n",
              "      <td>39^220^16</td>\n",
              "      <td>0</td>\n",
              "      <td>15</td>\n",
              "    </tr>\n",
              "    <tr>\n",
              "      <th>1</th>\n",
              "      <td>373253</td>\n",
              "      <td>1</td>\n",
              "      <td>100005</td>\n",
              "      <td>3</td>\n",
              "      <td>2</td>\n",
              "      <td>16</td>\n",
              "      <td>147</td>\n",
              "      <td>2</td>\n",
              "      <td>32</td>\n",
              "      <td>6</td>\n",
              "      <td>...</td>\n",
              "      <td>30157^30648^14278^31706</td>\n",
              "      <td>2066^1776^1036</td>\n",
              "      <td>114^219^312</td>\n",
              "      <td>24107</td>\n",
              "      <td>1218</td>\n",
              "      <td>173</td>\n",
              "      <td>202206030326</td>\n",
              "      <td>39^220^16</td>\n",
              "      <td>0</td>\n",
              "      <td>15</td>\n",
              "    </tr>\n",
              "    <tr>\n",
              "      <th>2</th>\n",
              "      <td>373252</td>\n",
              "      <td>1</td>\n",
              "      <td>100005</td>\n",
              "      <td>3</td>\n",
              "      <td>2</td>\n",
              "      <td>16</td>\n",
              "      <td>147</td>\n",
              "      <td>2</td>\n",
              "      <td>32</td>\n",
              "      <td>6</td>\n",
              "      <td>...</td>\n",
              "      <td>30157^30648^14278^31706</td>\n",
              "      <td>2066^1776^1036</td>\n",
              "      <td>114^219^312</td>\n",
              "      <td>24107</td>\n",
              "      <td>1218</td>\n",
              "      <td>173</td>\n",
              "      <td>202206030326</td>\n",
              "      <td>39^220^16</td>\n",
              "      <td>0</td>\n",
              "      <td>15</td>\n",
              "    </tr>\n",
              "    <tr>\n",
              "      <th>3</th>\n",
              "      <td>373251</td>\n",
              "      <td>0</td>\n",
              "      <td>100005</td>\n",
              "      <td>3</td>\n",
              "      <td>2</td>\n",
              "      <td>16</td>\n",
              "      <td>147</td>\n",
              "      <td>2</td>\n",
              "      <td>32</td>\n",
              "      <td>6</td>\n",
              "      <td>...</td>\n",
              "      <td>30157^30648^14278^31706</td>\n",
              "      <td>2066^1776^1036</td>\n",
              "      <td>114^219^312</td>\n",
              "      <td>24107</td>\n",
              "      <td>1218</td>\n",
              "      <td>173</td>\n",
              "      <td>202206030326</td>\n",
              "      <td>39^220^16</td>\n",
              "      <td>0</td>\n",
              "      <td>15</td>\n",
              "    </tr>\n",
              "    <tr>\n",
              "      <th>4</th>\n",
              "      <td>373255</td>\n",
              "      <td>0</td>\n",
              "      <td>100005</td>\n",
              "      <td>3</td>\n",
              "      <td>2</td>\n",
              "      <td>16</td>\n",
              "      <td>147</td>\n",
              "      <td>2</td>\n",
              "      <td>32</td>\n",
              "      <td>6</td>\n",
              "      <td>...</td>\n",
              "      <td>30157^30648^14278^31706</td>\n",
              "      <td>2066^1776^1036</td>\n",
              "      <td>114^219^312</td>\n",
              "      <td>24107</td>\n",
              "      <td>1218</td>\n",
              "      <td>173</td>\n",
              "      <td>202206030328</td>\n",
              "      <td>39^220^16</td>\n",
              "      <td>0</td>\n",
              "      <td>15</td>\n",
              "    </tr>\n",
              "  </tbody>\n",
              "</table>\n",
              "<p>5 rows × 35 columns</p>\n",
              "</div>\n",
              "    <div class=\"colab-df-buttons\">\n",
              "\n",
              "  <div class=\"colab-df-container\">\n",
              "    <button class=\"colab-df-convert\" onclick=\"convertToInteractive('df-eb22e0c0-46a6-41a2-891b-52c21456af09')\"\n",
              "            title=\"Convert this dataframe to an interactive table.\"\n",
              "            style=\"display:none;\">\n",
              "\n",
              "  <svg xmlns=\"http://www.w3.org/2000/svg\" height=\"24px\" viewBox=\"0 -960 960 960\">\n",
              "    <path d=\"M120-120v-720h720v720H120Zm60-500h600v-160H180v160Zm220 220h160v-160H400v160Zm0 220h160v-160H400v160ZM180-400h160v-160H180v160Zm440 0h160v-160H620v160ZM180-180h160v-160H180v160Zm440 0h160v-160H620v160Z\"/>\n",
              "  </svg>\n",
              "    </button>\n",
              "\n",
              "  <style>\n",
              "    .colab-df-container {\n",
              "      display:flex;\n",
              "      gap: 12px;\n",
              "    }\n",
              "\n",
              "    .colab-df-convert {\n",
              "      background-color: #E8F0FE;\n",
              "      border: none;\n",
              "      border-radius: 50%;\n",
              "      cursor: pointer;\n",
              "      display: none;\n",
              "      fill: #1967D2;\n",
              "      height: 32px;\n",
              "      padding: 0 0 0 0;\n",
              "      width: 32px;\n",
              "    }\n",
              "\n",
              "    .colab-df-convert:hover {\n",
              "      background-color: #E2EBFA;\n",
              "      box-shadow: 0px 1px 2px rgba(60, 64, 67, 0.3), 0px 1px 3px 1px rgba(60, 64, 67, 0.15);\n",
              "      fill: #174EA6;\n",
              "    }\n",
              "\n",
              "    .colab-df-buttons div {\n",
              "      margin-bottom: 4px;\n",
              "    }\n",
              "\n",
              "    [theme=dark] .colab-df-convert {\n",
              "      background-color: #3B4455;\n",
              "      fill: #D2E3FC;\n",
              "    }\n",
              "\n",
              "    [theme=dark] .colab-df-convert:hover {\n",
              "      background-color: #434B5C;\n",
              "      box-shadow: 0px 1px 3px 1px rgba(0, 0, 0, 0.15);\n",
              "      filter: drop-shadow(0px 1px 2px rgba(0, 0, 0, 0.3));\n",
              "      fill: #FFFFFF;\n",
              "    }\n",
              "  </style>\n",
              "\n",
              "    <script>\n",
              "      const buttonEl =\n",
              "        document.querySelector('#df-eb22e0c0-46a6-41a2-891b-52c21456af09 button.colab-df-convert');\n",
              "      buttonEl.style.display =\n",
              "        google.colab.kernel.accessAllowed ? 'block' : 'none';\n",
              "\n",
              "      async function convertToInteractive(key) {\n",
              "        const element = document.querySelector('#df-eb22e0c0-46a6-41a2-891b-52c21456af09');\n",
              "        const dataTable =\n",
              "          await google.colab.kernel.invokeFunction('convertToInteractive',\n",
              "                                                    [key], {});\n",
              "        if (!dataTable) return;\n",
              "\n",
              "        const docLinkHtml = 'Like what you see? Visit the ' +\n",
              "          '<a target=\"_blank\" href=https://colab.research.google.com/notebooks/data_table.ipynb>data table notebook</a>'\n",
              "          + ' to learn more about interactive tables.';\n",
              "        element.innerHTML = '';\n",
              "        dataTable['output_type'] = 'display_data';\n",
              "        await google.colab.output.renderOutput(dataTable, element);\n",
              "        const docLink = document.createElement('div');\n",
              "        docLink.innerHTML = docLinkHtml;\n",
              "        element.appendChild(docLink);\n",
              "      }\n",
              "    </script>\n",
              "  </div>\n",
              "\n",
              "\n",
              "<div id=\"df-c4672740-2efc-4adc-9e78-259ef66afc5b\">\n",
              "  <button class=\"colab-df-quickchart\" onclick=\"quickchart('df-c4672740-2efc-4adc-9e78-259ef66afc5b')\"\n",
              "            title=\"Suggest charts\"\n",
              "            style=\"display:none;\">\n",
              "\n",
              "<svg xmlns=\"http://www.w3.org/2000/svg\" height=\"24px\"viewBox=\"0 0 24 24\"\n",
              "     width=\"24px\">\n",
              "    <g>\n",
              "        <path d=\"M19 3H5c-1.1 0-2 .9-2 2v14c0 1.1.9 2 2 2h14c1.1 0 2-.9 2-2V5c0-1.1-.9-2-2-2zM9 17H7v-7h2v7zm4 0h-2V7h2v10zm4 0h-2v-4h2v4z\"/>\n",
              "    </g>\n",
              "</svg>\n",
              "  </button>\n",
              "\n",
              "<style>\n",
              "  .colab-df-quickchart {\n",
              "      --bg-color: #E8F0FE;\n",
              "      --fill-color: #1967D2;\n",
              "      --hover-bg-color: #E2EBFA;\n",
              "      --hover-fill-color: #174EA6;\n",
              "      --disabled-fill-color: #AAA;\n",
              "      --disabled-bg-color: #DDD;\n",
              "  }\n",
              "\n",
              "  [theme=dark] .colab-df-quickchart {\n",
              "      --bg-color: #3B4455;\n",
              "      --fill-color: #D2E3FC;\n",
              "      --hover-bg-color: #434B5C;\n",
              "      --hover-fill-color: #FFFFFF;\n",
              "      --disabled-bg-color: #3B4455;\n",
              "      --disabled-fill-color: #666;\n",
              "  }\n",
              "\n",
              "  .colab-df-quickchart {\n",
              "    background-color: var(--bg-color);\n",
              "    border: none;\n",
              "    border-radius: 50%;\n",
              "    cursor: pointer;\n",
              "    display: none;\n",
              "    fill: var(--fill-color);\n",
              "    height: 32px;\n",
              "    padding: 0;\n",
              "    width: 32px;\n",
              "  }\n",
              "\n",
              "  .colab-df-quickchart:hover {\n",
              "    background-color: var(--hover-bg-color);\n",
              "    box-shadow: 0 1px 2px rgba(60, 64, 67, 0.3), 0 1px 3px 1px rgba(60, 64, 67, 0.15);\n",
              "    fill: var(--button-hover-fill-color);\n",
              "  }\n",
              "\n",
              "  .colab-df-quickchart-complete:disabled,\n",
              "  .colab-df-quickchart-complete:disabled:hover {\n",
              "    background-color: var(--disabled-bg-color);\n",
              "    fill: var(--disabled-fill-color);\n",
              "    box-shadow: none;\n",
              "  }\n",
              "\n",
              "  .colab-df-spinner {\n",
              "    border: 2px solid var(--fill-color);\n",
              "    border-color: transparent;\n",
              "    border-bottom-color: var(--fill-color);\n",
              "    animation:\n",
              "      spin 1s steps(1) infinite;\n",
              "  }\n",
              "\n",
              "  @keyframes spin {\n",
              "    0% {\n",
              "      border-color: transparent;\n",
              "      border-bottom-color: var(--fill-color);\n",
              "      border-left-color: var(--fill-color);\n",
              "    }\n",
              "    20% {\n",
              "      border-color: transparent;\n",
              "      border-left-color: var(--fill-color);\n",
              "      border-top-color: var(--fill-color);\n",
              "    }\n",
              "    30% {\n",
              "      border-color: transparent;\n",
              "      border-left-color: var(--fill-color);\n",
              "      border-top-color: var(--fill-color);\n",
              "      border-right-color: var(--fill-color);\n",
              "    }\n",
              "    40% {\n",
              "      border-color: transparent;\n",
              "      border-right-color: var(--fill-color);\n",
              "      border-top-color: var(--fill-color);\n",
              "    }\n",
              "    60% {\n",
              "      border-color: transparent;\n",
              "      border-right-color: var(--fill-color);\n",
              "    }\n",
              "    80% {\n",
              "      border-color: transparent;\n",
              "      border-right-color: var(--fill-color);\n",
              "      border-bottom-color: var(--fill-color);\n",
              "    }\n",
              "    90% {\n",
              "      border-color: transparent;\n",
              "      border-bottom-color: var(--fill-color);\n",
              "    }\n",
              "  }\n",
              "</style>\n",
              "\n",
              "  <script>\n",
              "    async function quickchart(key) {\n",
              "      const quickchartButtonEl =\n",
              "        document.querySelector('#' + key + ' button');\n",
              "      quickchartButtonEl.disabled = true;  // To prevent multiple clicks.\n",
              "      quickchartButtonEl.classList.add('colab-df-spinner');\n",
              "      try {\n",
              "        const charts = await google.colab.kernel.invokeFunction(\n",
              "            'suggestCharts', [key], {});\n",
              "      } catch (error) {\n",
              "        console.error('Error during call to suggestCharts:', error);\n",
              "      }\n",
              "      quickchartButtonEl.classList.remove('colab-df-spinner');\n",
              "      quickchartButtonEl.classList.add('colab-df-quickchart-complete');\n",
              "    }\n",
              "    (() => {\n",
              "      let quickchartButtonEl =\n",
              "        document.querySelector('#df-c4672740-2efc-4adc-9e78-259ef66afc5b button');\n",
              "      quickchartButtonEl.style.display =\n",
              "        google.colab.kernel.accessAllowed ? 'block' : 'none';\n",
              "    })();\n",
              "  </script>\n",
              "</div>\n",
              "\n",
              "    </div>\n",
              "  </div>\n"
            ],
            "application/vnd.google.colaboratory.intrinsic+json": {
              "type": "dataframe",
              "variable_name": "ads"
            }
          },
          "metadata": {},
          "execution_count": 5
        }
      ]
    },
    {
      "cell_type": "code",
      "source": [
        "ads.dtypes"
      ],
      "metadata": {
        "colab": {
          "base_uri": "https://localhost:8080/"
        },
        "id": "i6L7IcdYJQMX",
        "outputId": "51b3c507-3a7e-4280-cc80-964e819393a3"
      },
      "execution_count": null,
      "outputs": [
        {
          "output_type": "execute_result",
          "data": {
            "text/plain": [
              "log_id                    int64\n",
              "label                     int64\n",
              "user_id                   int64\n",
              "age                       int64\n",
              "gender                    int64\n",
              "residence                 int64\n",
              "city                      int64\n",
              "city_rank                 int64\n",
              "series_dev                int64\n",
              "series_group              int64\n",
              "emui_dev                  int64\n",
              "device_name               int64\n",
              "device_size               int64\n",
              "net_type                  int64\n",
              "task_id                   int64\n",
              "adv_id                    int64\n",
              "creat_type_cd             int64\n",
              "adv_prim_id               int64\n",
              "inter_type_cd             int64\n",
              "slot_id                   int64\n",
              "site_id                   int64\n",
              "spread_app_id             int64\n",
              "hispace_app_tags          int64\n",
              "app_second_class          int64\n",
              "app_score               float64\n",
              "ad_click_list_v001       object\n",
              "ad_click_list_v002       object\n",
              "ad_click_list_v003       object\n",
              "ad_close_list_v001       object\n",
              "ad_close_list_v002       object\n",
              "ad_close_list_v003       object\n",
              "pt_d                      int64\n",
              "u_newsCatInterestsST     object\n",
              "u_refreshTimes            int64\n",
              "u_feedLifeCycle           int64\n",
              "dtype: object"
            ]
          },
          "metadata": {},
          "execution_count": 6
        }
      ]
    },
    {
      "cell_type": "code",
      "source": [
        "ads['u_newsCatInterestsST'].value_counts()"
      ],
      "metadata": {
        "colab": {
          "base_uri": "https://localhost:8080/"
        },
        "id": "Q3dqmqweKn6U",
        "outputId": "22ae1108-830e-4920-d570-b5d48309ff39"
      },
      "execution_count": null,
      "outputs": [
        {
          "output_type": "execute_result",
          "data": {
            "text/plain": [
              "u_newsCatInterestsST\n",
              "0                    157500\n",
              "98                     7493\n",
              "168                    7070\n",
              "78^98^98^98^98         5875\n",
              "219                    4499\n",
              "                      ...  \n",
              "219^80^199^76^21          1\n",
              "38^39^152^20^78           1\n",
              "173^195^44^167^96         1\n",
              "98^98^78^147^10           1\n",
              "15^109^199^21^220         1\n",
              "Name: count, Length: 187576, dtype: int64"
            ]
          },
          "metadata": {},
          "execution_count": 7
        }
      ]
    },
    {
      "cell_type": "code",
      "source": [
        "class AdsModel(BaseModel):\n",
        "    log_id: int\n",
        "    label: int\n",
        "    user_id: int\n",
        "    age: int\n",
        "    gender: int\n",
        "    residence: int\n",
        "    city: int\n",
        "    city_rank: int\n",
        "    series_dev: int\n",
        "    series_group: int\n",
        "    emui_dev: int\n",
        "    device_name: int\n",
        "    device_size: int\n",
        "    net_type: int\n",
        "    task_id: int\n",
        "    adv_id: int\n",
        "    creat_type_cd: int\n",
        "    adv_prim_id: int\n",
        "    inter_type_cd: int\n",
        "    slot_id: int\n",
        "    site_id: int\n",
        "    spread_app_id: int\n",
        "    hispace_app_tags: int\n",
        "    app_second_class: int\n",
        "    app_score: float\n",
        "    ad_click_list_v001: str\n",
        "    ad_click_list_v002: str\n",
        "    ad_click_list_v003: str\n",
        "    ad_close_list_v001: str\n",
        "    ad_close_list_v002: str\n",
        "    ad_close_list_v003: str\n",
        "    pt_d: int\n",
        "    u_newsCatInterestsST: str\n",
        "    u_refreshTimes: int\n",
        "    u_feedLifeCycle: int"
      ],
      "metadata": {
        "id": "N5dDypjLDzS3"
      },
      "execution_count": null,
      "outputs": []
    },
    {
      "cell_type": "code",
      "source": [
        "str(ads.iloc[0].to_dict())"
      ],
      "metadata": {
        "colab": {
          "base_uri": "https://localhost:8080/",
          "height": 91
        },
        "id": "3zJJz9C-MVsF",
        "outputId": "cdbbb0d9-87a9-43a5-987e-338b3cf80866"
      },
      "execution_count": null,
      "outputs": [
        {
          "output_type": "execute_result",
          "data": {
            "text/plain": [
              "\"{'log_id': 373250, 'label': 0, 'user_id': 100005, 'age': 3, 'gender': 2, 'residence': 16, 'city': 147, 'city_rank': 2, 'series_dev': 32, 'series_group': 6, 'emui_dev': 35, 'device_name': 312, 'device_size': 2117, 'net_type': 7, 'task_id': 14339, 'adv_id': 19319, 'creat_type_cd': 6, 'adv_prim_id': 1846, 'inter_type_cd': 4, 'slot_id': 46, 'site_id': 1, 'spread_app_id': 162, 'hispace_app_tags': 47, 'app_second_class': 14, 'app_score': 10.0, 'ad_click_list_v001': '30157^30648^14278^31706', 'ad_click_list_v002': '2066^1776^1036', 'ad_click_list_v003': '114^219^312', 'ad_close_list_v001': '24107', 'ad_close_list_v002': '1218', 'ad_close_list_v003': '173', 'pt_d': 202206030326, 'u_newsCatInterestsST': '39^220^16', 'u_refreshTimes': 0, 'u_feedLifeCycle': 15}\""
            ],
            "application/vnd.google.colaboratory.intrinsic+json": {
              "type": "string"
            }
          },
          "metadata": {},
          "execution_count": 9
        }
      ]
    },
    {
      "cell_type": "code",
      "source": [
        "examples=[]\n",
        "for i in range(10):\n",
        "  temp=ads.iloc[i].to_dict()\n",
        "  formatted_str = \", \".join(f\"{key}: {repr(value)}\" for key, value in temp.items())\n",
        "  examples.append({\"example\": str(formatted_str)})"
      ],
      "metadata": {
        "id": "TihA_4E9Mt3O"
      },
      "execution_count": null,
      "outputs": []
    },
    {
      "cell_type": "code",
      "source": [
        "examples[0]"
      ],
      "metadata": {
        "colab": {
          "base_uri": "https://localhost:8080/"
        },
        "id": "D6UuJCtzNOH-",
        "outputId": "c12d1b95-338c-4453-d7ce-a887bbcf6064"
      },
      "execution_count": null,
      "outputs": [
        {
          "output_type": "execute_result",
          "data": {
            "text/plain": [
              "{'example': \"log_id: 373250, label: 0, user_id: 100005, age: 3, gender: 2, residence: 16, city: 147, city_rank: 2, series_dev: 32, series_group: 6, emui_dev: 35, device_name: 312, device_size: 2117, net_type: 7, task_id: 14339, adv_id: 19319, creat_type_cd: 6, adv_prim_id: 1846, inter_type_cd: 4, slot_id: 46, site_id: 1, spread_app_id: 162, hispace_app_tags: 47, app_second_class: 14, app_score: 10.0, ad_click_list_v001: '30157^30648^14278^31706', ad_click_list_v002: '2066^1776^1036', ad_click_list_v003: '114^219^312', ad_close_list_v001: '24107', ad_close_list_v002: '1218', ad_close_list_v003: '173', pt_d: 202206030326, u_newsCatInterestsST: '39^220^16', u_refreshTimes: 0, u_feedLifeCycle: 15\"}"
            ]
          },
          "metadata": {},
          "execution_count": 11
        }
      ]
    },
    {
      "cell_type": "code",
      "source": [
        "MISTRALAI_TEMPLATE = PromptTemplate(input_variables=[\"example\"], template=\"{example}\")\n",
        "\n",
        "prompt_template = FewShotPromptTemplate(\n",
        "    prefix=SYNTHETIC_FEW_SHOT_PREFIX,\n",
        "    examples=examples,\n",
        "    suffix=SYNTHETIC_FEW_SHOT_SUFFIX,\n",
        "    input_variables=[\"subject\", \"extra\"],\n",
        "    example_prompt=MISTRALAI_TEMPLATE,\n",
        ")"
      ],
      "metadata": {
        "id": "hsOKpTObNf3n"
      },
      "execution_count": null,
      "outputs": []
    },
    {
      "cell_type": "code",
      "source": [
        "synthetic_data_generator = create_openai_data_generator(\n",
        "    # output_schema=AdsModel,\n",
        "    llm=ChatMistralAI(\n",
        "        api_key='jVgK7BBoeySjseOraGsC7Dzcqp1bs7km',\n",
        "        temperature=1\n",
        "    ),\n",
        "    prompt=prompt_template,\n",
        ")"
      ],
      "metadata": {
        "id": "sizX3HdWNo_G",
        "colab": {
          "base_uri": "https://localhost:8080/",
          "height": 219
        },
        "outputId": "6c338cd6-2ecb-4fd7-d96b-1c4d8551abc7"
      },
      "execution_count": null,
      "outputs": [
        {
          "output_type": "error",
          "ename": "TypeError",
          "evalue": "create_openai_data_generator() missing 1 required positional argument: 'output_schema'",
          "traceback": [
            "\u001b[0;31m---------------------------------------------------------------------------\u001b[0m",
            "\u001b[0;31mTypeError\u001b[0m                                 Traceback (most recent call last)",
            "\u001b[0;32m<ipython-input-14-4fd92908579e>\u001b[0m in \u001b[0;36m<cell line: 1>\u001b[0;34m()\u001b[0m\n\u001b[0;32m----> 1\u001b[0;31m synthetic_data_generator = create_openai_data_generator(\n\u001b[0m\u001b[1;32m      2\u001b[0m     \u001b[0;31m# output_schema=AdsModel,\u001b[0m\u001b[0;34m\u001b[0m\u001b[0;34m\u001b[0m\u001b[0m\n\u001b[1;32m      3\u001b[0m     llm=ChatMistralAI(\n\u001b[1;32m      4\u001b[0m         \u001b[0mapi_key\u001b[0m\u001b[0;34m=\u001b[0m\u001b[0;34m'jVgK7BBoeySjseOraGsC7Dzcqp1bs7km'\u001b[0m\u001b[0;34m,\u001b[0m\u001b[0;34m\u001b[0m\u001b[0;34m\u001b[0m\u001b[0m\n\u001b[1;32m      5\u001b[0m         \u001b[0mtemperature\u001b[0m\u001b[0;34m=\u001b[0m\u001b[0;36m1\u001b[0m\u001b[0;34m\u001b[0m\u001b[0;34m\u001b[0m\u001b[0m\n",
            "\u001b[0;31mTypeError\u001b[0m: create_openai_data_generator() missing 1 required positional argument: 'output_schema'"
          ]
        }
      ]
    },
    {
      "cell_type": "code",
      "source": [
        "synthetic_results = synthetic_data_generator.generate(\n",
        "    subject=\"ads\",\n",
        "    extra=\"\",\n",
        "    runs=10,\n",
        ")"
      ],
      "metadata": {
        "id": "wWNyMVd7OEsY"
      },
      "execution_count": null,
      "outputs": []
    },
    {
      "cell_type": "code",
      "source": [],
      "metadata": {
        "id": "9uaVJ5adXDej"
      },
      "execution_count": null,
      "outputs": []
    }
  ]
}